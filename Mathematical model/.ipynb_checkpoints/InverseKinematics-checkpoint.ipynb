{
 "cells": [
  {
   "cell_type": "code",
   "execution_count": 23,
   "id": "849ec523",
   "metadata": {},
   "outputs": [],
   "source": [
    "from scipy.optimize import fsolve\n",
    "import math\n",
    "from sympy import *\n",
    "\n"
   ]
  },
  {
   "cell_type": "code",
   "execution_count": 29,
   "id": "66152b30",
   "metadata": {},
   "outputs": [
    {
     "data": {
      "text/plain": [
       "[]"
      ]
     },
     "execution_count": 29,
     "metadata": {},
     "output_type": "execute_result"
    }
   ],
   "source": [
    "th1, th2, th3, th4, th5, = symbols('th1 th2 th3 th4 th5')\n",
    "l1, l1b, l2, l3, l4, l5 = symbols('l1 l1b l2 l3 l4 l5')\n",
    "Px, Py, Pz = symbols('Px Py Pz')\n",
    "'''th5 = 0\n",
    "th1 = 0\n",
    "l1 = 0.1\n",
    "l2 = 0.1\n",
    "l1b = 0.1\n",
    "l3 = 0.1\n",
    "l4 = 0.1\n",
    "l5 = 0.06\n",
    "Px = 0.1\n",
    "Py = 0.1 \n",
    "Pz = 0.1'''\n",
    "\n",
    "eq1 = (l2*cos(th2) + l3*sin(th3)*cos(th2) + l4*cos(th4)*sin(th3)*cos(th2) + l5*cos(th5)*cos(th4)*sin(th3)*cos(th2))*(-cos(th1))\n",
    "eq2 = (l2*cos(th2) + l3*sin(th3)*cos(th2) + l4*cos(th4)*sin(th3)*cos(th2) + l5*cos(th5)*cos(th4)*sin(th3)*cos(th2))*(-sin(th1))\n",
    "eq3 = l1 + l1b + l2*sin(th2) + l3*cos(th3)*sin(th2) - l4*sin(th4)*cos(th3)*sin(th2) - l5*sin(th5)*sin(th4)*cos(th3)*sin(th2)\n",
    "\n",
    "eq1 = Eq(eq1, Px)\n",
    "eq2 = Eq(eq2, Py)\n",
    "eq3 = Eq(eq3, Pz)\n",
    "\n",
    "solve([eq1, eq2, eq3], [th2, th3, th4])"
   ]
  },
  {
   "cell_type": "code",
   "execution_count": 28,
   "id": "43be2a2a",
   "metadata": {},
   "outputs": [
    {
     "data": {
      "text/plain": [
       "[]"
      ]
     },
     "execution_count": 28,
     "metadata": {},
     "output_type": "execute_result"
    }
   ],
   "source": [
    "sol"
   ]
  },
  {
   "cell_type": "code",
   "execution_count": 8,
   "id": "d59f5161",
   "metadata": {},
   "outputs": [
    {
     "name": "stdout",
     "output_type": "stream",
     "text": [
      "0.6203445234801195 1.8383839306750887\n"
     ]
    }
   ],
   "source": [
    "def equations(p):\n",
    "    th2, th3, th4 = p\n",
    "    return (\n",
    "        -Px + (l2*math.cos(th2) + l3*math.sin(th3)*math.cos(th2) + l4*math.cos(th4)*math.sin(th3)*math.cos(th2) + l5*math.cos(th5)*math.cos(th4)*math.sin(th3)*math.cos(th2))*(-math.cos(th1)),\n",
    "        -Py + (l2*math.cos(th2) + l3*math.sin(th3)*math.cos(th2) + l4*math.cos(th4)*math.sin(th3)*math.cos(th2) + l5*math.cos(th5)*math.cos(th4)*math.sin(th3)*math.cos(th2))*(-math.sin(th1)),\n",
    "        -Pz + l1 + l1b + l2*math.sin(th2) + l3*math.cos(th3)*math.sin(th2) - l4*math.sin(th4)*math.cos(th3)*math.sin(th2) - l5*math.sin(th5)*math.sin(th4)*math.cos(th3)*math.sin(th2)\n",
    "    )\n",
    "\n",
    "x, y =  fsolve(equations, (1, 1))\n",
    "\n",
    "\n",
    "print(x,y)"
   ]
  },
  {
   "cell_type": "code",
   "execution_count": 13,
   "id": "b3ce1a60",
   "metadata": {},
   "outputs": [],
   "source": [
    "th1, th2, th3, th4, th5, = symbols('th1 th2 th3 th4 th5')"
   ]
  },
  {
   "cell_type": "code",
   "execution_count": 14,
   "id": "e4d1e76a",
   "metadata": {},
   "outputs": [],
   "source": [
    "Px, Py, Pz = symbols('Px Py Pz')"
   ]
  },
  {
   "cell_type": "code",
   "execution_count": null,
   "id": "4a774368",
   "metadata": {},
   "outputs": [],
   "source": []
  }
 ],
 "metadata": {
  "kernelspec": {
   "display_name": "Python 3 (ipykernel)",
   "language": "python",
   "name": "python3"
  },
  "language_info": {
   "codemirror_mode": {
    "name": "ipython",
    "version": 3
   },
   "file_extension": ".py",
   "mimetype": "text/x-python",
   "name": "python",
   "nbconvert_exporter": "python",
   "pygments_lexer": "ipython3",
   "version": "3.9.7"
  }
 },
 "nbformat": 4,
 "nbformat_minor": 5
}
