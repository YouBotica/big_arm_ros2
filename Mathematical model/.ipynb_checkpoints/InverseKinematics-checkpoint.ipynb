{
 "cells": [
  {
   "cell_type": "code",
   "execution_count": 2,
   "id": "849ec523",
   "metadata": {},
   "outputs": [],
   "source": [
    "from scipy.optimize import fsolve\n",
    "import math\n",
    "from sympy import *\n",
    "\n"
   ]
  },
  {
   "cell_type": "code",
   "execution_count": 7,
   "id": "66152b30",
   "metadata": {},
   "outputs": [],
   "source": [
    "th2, th3, th4 = symbols('th2 th3 th4')\n",
    "\n",
    "lb1 = 0.025; \n",
    "l1 = 0.110; \n",
    "l2 = 0.38; \n",
    "l3 = 0.38 \n",
    "l4 = 0.38\n",
    "l5 = 0.04;\n",
    "Px = 0.6;\n",
    "Py = 0.5;\n",
    "Pz = 0.6;\n",
    "\n",
    "\n",
    "th1 = atan(Py/Px)\n"
   ]
  },
  {
   "cell_type": "code",
   "execution_count": 8,
   "id": "1957e1e3",
   "metadata": {},
   "outputs": [],
   "source": [
    "eq1 = (l2*cos(th2)+l3*cos(asin((-Pz + l1 + lb1 - l2*sin(th2))/(l3))) + l4 + l5)*cos(th1)"
   ]
  },
  {
   "cell_type": "code",
   "execution_count": 9,
   "id": "5789c1b7",
   "metadata": {},
   "outputs": [],
   "source": [
    "eq1 = Eq(eq1, Px)"
   ]
  },
  {
   "cell_type": "code",
   "execution_count": 15,
   "id": "20d2fc99",
   "metadata": {},
   "outputs": [],
   "source": [
    "sol = solve(eq1, th2)"
   ]
  },
  {
   "cell_type": "code",
   "execution_count": 16,
   "id": "43be2a2a",
   "metadata": {},
   "outputs": [],
   "source": [
    "th2 = th2[0]"
   ]
  },
  {
   "cell_type": "code",
   "execution_count": 17,
   "id": "d59f5161",
   "metadata": {},
   "outputs": [
    {
     "data": {
      "text/latex": [
       "$\\displaystyle -1.59532566494621$"
      ],
      "text/plain": [
       "-1.59532566494621"
      ]
     },
     "execution_count": 17,
     "metadata": {},
     "output_type": "execute_result"
    }
   ],
   "source": [
    "th3 = -th2 + asin((-Pz+l1+lb1-l2*sin(th2))/(l3))"
   ]
  },
  {
   "cell_type": "code",
   "execution_count": 13,
   "id": "b3ce1a60",
   "metadata": {},
   "outputs": [],
   "source": []
  },
  {
   "cell_type": "code",
   "execution_count": 14,
   "id": "e4d1e76a",
   "metadata": {},
   "outputs": [],
   "source": []
  },
  {
   "cell_type": "code",
   "execution_count": null,
   "id": "4a774368",
   "metadata": {},
   "outputs": [],
   "source": []
  }
 ],
 "metadata": {
  "kernelspec": {
   "display_name": "Python 3 (ipykernel)",
   "language": "python",
   "name": "python3"
  },
  "language_info": {
   "codemirror_mode": {
    "name": "ipython",
    "version": 3
   },
   "file_extension": ".py",
   "mimetype": "text/x-python",
   "name": "python",
   "nbconvert_exporter": "python",
   "pygments_lexer": "ipython3",
   "version": "3.9.7"
  }
 },
 "nbformat": 4,
 "nbformat_minor": 5
}
